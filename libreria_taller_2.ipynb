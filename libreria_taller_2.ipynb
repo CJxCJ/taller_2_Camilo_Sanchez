{
 "cells": [
  {
   "cell_type": "markdown",
   "metadata": {},
   "source": [
    "2. Desarrollar un programa que ingrese un número flotante n y separe su parte entera de la parte decimal, y luego entregue los dígitos tanto de la parte entera como de la decimal."
   ]
  },
  {
   "cell_type": "code",
   "execution_count": null,
   "metadata": {},
   "outputs": [],
   "source": [
    "#funcion que convuierte el int en un str\n",
    "def lista(numero):\n",
    "  num_str = str(numero)\n",
    "    \n",
    "    #separa el numero donde se encuntre el \".\" para separar la parte entera de la decimal\n",
    "  partes = num_str.split(\".\")\n",
    "    \n",
    "  entero = partes[0]\n",
    "  decimal = partes[1] if len(partes) > 1 else \"0\"\n",
    "    \n",
    "  #empieza la lista vacia para ir almacenando los int\n",
    "  lista_entera = [int(digito) for digito in entero]\n",
    "  lista_decimal = [int(digito) for digito in decimal]\n",
    "    \n",
    "  return lista_entera, lista_decimal\n",
    "\n",
    "numero = float(input(\"Ingresa un número flotante: \"))\n",
    "\n",
    "#almacena el resultado de la funcion\n",
    "lista_entera, lista_decimal = lista(numero)\n",
    "\n",
    "print(\"Los digitos de la parte entera es:\", lista_entera)\n",
    "print(\"Los digitos de la parte decimal es:\", lista_decimal)\n",
    "\n"
   ]
  },
  {
   "cell_type": "markdown",
   "metadata": {},
   "source": [
    "4. Diseñar una función que permita calcular una aproximación de la función coseno alrededor de 0 para cualquier valor x (real), utilizando los primeros n términos de la serie de Taylor. nota: use math para traer la función coseno y mostrar la diferencia entre el valor real y la aproximación. Calcule con cuántos términos de la serie (i.e: cuáles valores de n), se tienen errores del 10%, 1%, 0.1% y 0.001%."
   ]
  },
  {
   "cell_type": "code",
   "execution_count": null,
   "metadata": {},
   "outputs": [],
   "source": [
    "import math\n",
    "\n",
    "#función para la aproximacion de coseno\n",
    "def aprox_coseno(x, n):\n",
    "  aprox = 0\n",
    "\n",
    "  for i in range(n):\n",
    "    termino = ((-1) ** i) * (x ** (2 * i)) / math.factorial(2 * i)\n",
    "    aprox += termino\n",
    "\n",
    "  valor = math.cos(x)\n",
    "  dif = abs(valor - aprox)\n",
    "\n",
    "  return aprox, dif\n",
    "\n",
    "#funcion para obtener el numero de terminos necesarios para obtener error\n",
    "def term_necesarios(x, error_max):\n",
    "  n = 0\n",
    "  error = error_max + 1\n",
    "  while error > error_max:\n",
    "    n += 1\n",
    "    aprox, _ = aprox_coseno(x, n)\n",
    "    error = abs(math.cos(x) - aprox)\n",
    "  return n\n",
    "\n",
    "x = float(input(\"Ingresa el valor de x: \"))\n",
    "\n",
    "#errores deseados\n",
    "errores_deseados = [0.1, 1, 10]\n",
    "\n",
    "#se imprime el error con el porcentaje en fraccion \n",
    "for error_per in errores_deseados:\n",
    "  error_max = error_per / 100  \n",
    "  n_max = term_necesarios(x, error_max)\n",
    "  aprox, dif = aprox_coseno(x, n_max)\n",
    "  print(f\"Para x = {x}, se necesita un mínimo de {n_max} términos para obtener un error del {error_per}% o menos.\")\n",
    "  print(f\"Aproximación de cos({x}) con {n_max} términos: {aprox:.7f}\")\n",
    "  print(f\"Diferencia con el valor real: {dif:.4f}\")\n",
    "  print()\n"
   ]
  },
  {
   "cell_type": "markdown",
   "metadata": {},
   "source": [
    "6. Desarrollar un programa que determine si en una lista existen o no elementos repetidos. Pista: Maneje valores booleanos y utilice el operador in."
   ]
  },
  {
   "cell_type": "code",
   "execution_count": null,
   "metadata": {},
   "outputs": [],
   "source": [
    "#funcion que reconoce los numeros repetidos con una lista vacia para almacenarlos\n",
    "def elem_repetidos(lista):\n",
    "  elem_unicos = set()\n",
    "    \n",
    "  for elemento in lista:\n",
    "    if elemento in elem_unicos:\n",
    "      return True\n",
    "    elem_unicos.add(elemento)\n",
    "    \n",
    "  return False \n",
    "\n",
    "entrada = input(\"escriba una lista de elementos separados por espacios: \")\n",
    "\n",
    "#convierte los numero de entrada en un lista\n",
    "elementos = entrada.split()\n",
    "\n",
    "#aplica la funcion\n",
    "hay_repetidos = elem_repetidos(elementos)\n",
    "\n",
    "#imprime los resultados segun la funcion\n",
    "if hay_repetidos:\n",
    "  print(\"La lista contiene elementos repetidos.\")\n",
    "else:\n",
    "  print(\"La lista no contiene elementos repetidos.\")\n"
   ]
  },
  {
   "cell_type": "markdown",
   "metadata": {},
   "source": [
    "8. Desarrollar un programa que dadas dos listas determine que elementos tiene la primer lista que no tenga la segunda lista. "
   ]
  },
  {
   "cell_type": "code",
   "execution_count": null,
   "metadata": {},
   "outputs": [],
   "source": [
    "#funcion para reconocer los elementos de la 1ra lista que no estan en la 2da\n",
    "def elementos(lista1, lista2):\n",
    "  return [elemento for elemento in lista1 if elemento not in lista2]\n",
    "\n",
    "#pedir las 2 listas\n",
    "lista1 = input(\"escriba la primera lista de elementos separados por espacios: \").split()\n",
    "lista2 = input(\"escriba la segunda lista de elementos separados por espacios: \").split()\n",
    "\n",
    "#se aplica la funcion\n",
    "no_comunes = elementos(lista1, lista2)\n",
    "\n",
    "#imprime los elementos no comunes\n",
    "print(\"Los lementos de la primera lista que no están en la segunda lista son:\")\n",
    "for elemento in no_comunes:\n",
    "  print(elemento)\n"
   ]
  },
  {
   "cell_type": "markdown",
   "metadata": {},
   "source": [
    "10. Suponga que se tiene una lista A con ciertos números enteros. Desarrolle una función que, independientemente de los números que se encuentran en la lista A, tome aquellos números que son múltiplos de 3 y los guarde en una lista nueva, la cual debe ser retornada por la función. Implemente la perspectiva de un patrón de acumulación y también de comprensión de listas. Desafío: Si ya lo logró, inténtelo ahora sin utilizar el módulo (%). Pista: Un número es multiplo de 3 si la suma de sus dígitos también lo es, ¿verdad?:"
   ]
  },
  {
   "cell_type": "code",
   "execution_count": null,
   "metadata": {},
   "outputs": [],
   "source": [
    "#funcion que crea una lista vacia y analiza si son o no multiplos de 3 los datos\n",
    "def multiplos_de_tres(lista):\n",
    "  multiplos = []\n",
    "  for num in lista:\n",
    "    if num % 3 == 0:\n",
    "      multiplos.append(num)\n",
    "  return multiplos\n",
    "\n",
    "#pedir los numeros separados por espacio y hacer cada valor un dato independiente\n",
    "entrada = input(\"Ingresa los valores de la lista separados por espacios: \")\n",
    "valores = [int(valor) for valor in entrada.split()]\n",
    "\n",
    "#usa la funcion en la lista creada\n",
    "multiplos = multiplos_de_tres(valores)\n",
    "\n",
    "#resultado\n",
    "print(\"Los múltiplos de 3 en la lista son:\", multiplos_de_tres)\n"
   ]
  },
  {
   "cell_type": "markdown",
   "metadata": {},
   "source": [
    "Otra forma de hacver el punto:"
   ]
  },
  {
   "cell_type": "code",
   "execution_count": null,
   "metadata": {},
   "outputs": [],
   "source": [
    "#funcion definiendo los multiplos de 3 previamente\n",
    "def multiplo_de_tres(numero):\n",
    "  suma = sum(int(digito) for digito in str(numero))\n",
    "  return suma in {0, 3, 6, 9}\n",
    "\n",
    "#funcion para hallar los multplos de 3 (ya definidos) en la lista\n",
    "def encontrar_multiplos(lista):\n",
    "  multiplos = [num for num in lista if multiplo_de_tres(num)]\n",
    "  return multiplos\n",
    "\n",
    "#solitar la lista \n",
    "lista = [int(x) for x in input(\"Ingresa una lista de números enteros separados por espacios: \").split()]\n",
    "\n",
    "#aplicar la segunda funcion\n",
    "multiplos = encontrar_multiplos(lista)\n",
    "\n",
    "#imprimir los múltiplos de 3 en la lista\n",
    "print(\"Los múltiplos de 3 en la lista son:\", multiplos)"
   ]
  }
 ],
 "metadata": {
  "language_info": {
   "name": "python"
  }
 },
 "nbformat": 4,
 "nbformat_minor": 2
}
